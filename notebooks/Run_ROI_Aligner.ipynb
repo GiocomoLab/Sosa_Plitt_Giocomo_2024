{
 "cells": [
  {
   "cell_type": "markdown",
   "id": "01d0728d-ee56-472a-be84-5f389731330e",
   "metadata": {},
   "source": [
    "# ROI tracking across days\n",
    "\n",
    "[Run and save across-day alignment](#Run-and-save-alignment)  \\\n",
    "[Collect tracked cells](#Collect-and-plot-fraction-of-tracked-cells-over-various-day-combos)"
   ]
  },
  {
   "cell_type": "code",
   "execution_count": 1,
   "id": "e2e25d1d",
   "metadata": {},
   "outputs": [],
   "source": [
    "# import\n",
    "import os\n",
    "import dill\n",
    "import numpy as np\n",
    "\n",
    "import TwoPUtils as tpu\n",
    "\n",
    "import reward_relative as rrel\n",
    "from reward_relative import sessions_dict\n",
    "import reward_relative.utilities as ut\n",
    "from reward_relative import multiDayROIAlign as roiAlign\n",
    "\n",
    "from matplotlib import pyplot as plt\n",
    "%matplotlib inline\n",
    "\n",
    "%load_ext autoreload\n",
    "%autoreload 2"
   ]
  },
  {
   "cell_type": "code",
   "execution_count": 2,
   "id": "edebf71b",
   "metadata": {},
   "outputs": [],
   "source": [
    "# Change this to your path dict file\n",
    "# If you don't have a path dict file, see reward_relative.path_dict_example and create one\n",
    "from reward_relative.path_dict_firebird import path_dictionary as path_dict"
   ]
  },
  {
   "cell_type": "code",
   "execution_count": 3,
   "id": "63a07248",
   "metadata": {},
   "outputs": [
    {
     "data": {
      "text/plain": [
       "{'preprocessed_root': '/data/2P',\n",
       " 'sbx_root': '/mnt/oak/InVivoDA/2P_Data',\n",
       " 'gdrive_root': '/mnt/gdrive/2P_Data',\n",
       " 'VR_Data': '/data/2P/VR_Data',\n",
       " 'git_repo_root': '/home/mari/local_repos/2p_repos',\n",
       " 'TwoPUtils': '/home/mari/local_repos/2p_repos/TwoPUtils',\n",
       " 'home': '/home/mari',\n",
       " 'fig_dir': '/data/2P/fig_scratch'}"
      ]
     },
     "execution_count": 3,
     "metadata": {},
     "output_type": "execute_result"
    }
   ],
   "source": [
    "path_dict"
   ]
  },
  {
   "cell_type": "code",
   "execution_count": 4,
   "id": "e6c12edc",
   "metadata": {},
   "outputs": [],
   "source": [
    "base_pkl_path = os.path.join(path_dict['preprocessed_root'],\"sess\")"
   ]
  },
  {
   "cell_type": "markdown",
   "id": "80c67a97-6339-454c-868d-665f747c90bf",
   "metadata": {},
   "source": [
    "## Run and save alignment\n",
    "\n",
    "For single/multiple mice, using sessions dict\n",
    "\n",
    "Saves the ROI matches between pairs of days as roi_aligner_results.pkl in `path_dict['preprocessed_root']/sess/<mouse>/`"
   ]
  },
  {
   "cell_type": "code",
   "execution_count": 5,
   "id": "ec88efe4-c530-4e30-9559-fcd4173e1fde",
   "metadata": {},
   "outputs": [
    {
     "name": "stdout",
     "output_type": "stream",
     "text": [
      "[1, 2, 3, 4, 5, 6, 7, 8, 9, 10, 11, 12, 13, 14, 15, 16, 17]\n",
      "[1, 2, 3, 4, 5, 6, 7, 8, 9, 10, 11, 12, 13, 14, 15, 16, 17]\n",
      "[1, 2, 3, 4, 5, 6, 7, 8, 9, 10, 11, 12, 13, 14, 15, 16, 17]\n"
     ]
    }
   ],
   "source": [
    "# Specify mice to run\n",
    "anim_list = ['GCAMP17', 'GCAMP18', 'GCAMP19']\n",
    "\n",
    "# Check dictionary indices of experiment days you want to run\n",
    "# Alternatively, you can pass the whole sessions dict per mouse \n",
    "#     to roiAlign.single_mouse_alignerif you want to run every session\n",
    "exp_days = [1,2,3,4,5,6,7,8,9,10,11,12,13,14,15,16,17]\n",
    "\n",
    "for mouse in anim_list:\n",
    "    sess_inds = []\n",
    "    if mouse in sessions_dict.single_plane.keys(): # for some reason multiplane animals are also being included in single plane dict\n",
    "        use_dict = sessions_dict.single_plane\n",
    "    elif mouse in sessions_dict.multi_plane.keys():\n",
    "        use_dict = sessions_dict.multi_plane\n",
    "    else:\n",
    "        raise NotImplementedError(\"Animal is not in single or multi plane sessions dict\")\n",
    "   \n",
    "    for exp_day in exp_days:\n",
    "        sess_inds.append(rrel.utilities.get_ind_of_exp_day(use_dict, mouse, exp_day))\n",
    "\n",
    "    print(sess_inds) # 0-indexed location of each exp day in sessions_dict                \n"
   ]
  },
  {
   "cell_type": "markdown",
   "id": "6b1f73bb-c6ef-456f-b627-9b12d1ec82bb",
   "metadata": {},
   "source": [
    "### Run alignment for each session\n",
    "(this part takes a while, on the order of tens of minutes to a few hours dependening on the size of the dataset)"
   ]
  },
  {
   "cell_type": "code",
   "execution_count": 41,
   "id": "5df1b510-04de-49fc-a933-728b418b4533",
   "metadata": {},
   "outputs": [
    {
     "name": "stdout",
     "output_type": "stream",
     "text": [
      "11807 candidates\n",
      "thresh 0.3055780658721924\n",
      "11762 candidates\n",
      "thresh 0.31575335359573364\n"
     ]
    }
   ],
   "source": [
    "# specify slice of sessions to keep\n",
    "sess_slice_start = 1\n",
    "sess_slice_end = 18 # since it's a slice, go 1 past the entry you actually want\n",
    "\n",
    "# Run and save alignment\n",
    "for mouse in anim_list:\n",
    "    if mouse in sessions_dict.single_plane.keys(): \n",
    "        use_dict = sessions_dict.single_plane\n",
    "    elif mouse in sessions_dict.multi_plane.keys():\n",
    "        use_dict = sessions_dict.multi_plane\n",
    "    else:\n",
    "        raise NotImplementedError(\"Animal is not in single or multi plane sessions dict\")\n",
    "\n",
    "    sess_slice = use_dict[mouse][sess_slice_start:sess_slice_end]\n",
    "    sess_list, sa = roiAlign.single_mouse_aligner(base_pkl_path,mouse,sess_slice,save=False) \n",
    "    # ^ optional: include dist_thresh=10 as a modifiable distance parameter to identify candidates;\n",
    "    # doesn't change the results though\n",
    "    \n",
    "    # `sa` saves results to roi_aligner_results.pkl in sess/animal"
   ]
  },
  {
   "cell_type": "markdown",
   "id": "732c9f92-bedc-4f94-a9d1-f5b26d92bec2",
   "metadata": {},
   "source": [
    "## Load and inspect pre-saved alignment if desired"
   ]
  },
  {
   "cell_type": "code",
   "execution_count": 140,
   "id": "bfa9d73d",
   "metadata": {},
   "outputs": [],
   "source": [
    "## Load pre-existing alignment if desired\n",
    "mouse = 'GCAMP18'\n",
    "base_pkl_path = os.path.join(path_dict['preprocessed_root'],\"sess\")\n",
    "roi_match = dill.load(open(os.path.join(base_pkl_path,mouse,'roi_aligner_results.pkl'), \"rb\"))"
   ]
  },
  {
   "cell_type": "code",
   "execution_count": 87,
   "id": "50d4ba44",
   "metadata": {},
   "outputs": [
    {
     "data": {
      "text/plain": [
       "dict_keys(['sess_deets', 'roi_match_inds', 'n_cells'])"
      ]
     },
     "execution_count": 87,
     "metadata": {},
     "output_type": "execute_result"
    }
   ],
   "source": [
    "roi_match.keys()"
   ]
  },
  {
   "cell_type": "code",
   "execution_count": 88,
   "id": "e27ef71d",
   "metadata": {},
   "outputs": [
    {
     "data": {
      "text/plain": [
       "dict_keys([0, 1, 2, 3, 4, 5, 6, 7, 8, 9, 10, 11, 12, 13, 14, 15, 16])"
      ]
     },
     "execution_count": 88,
     "metadata": {},
     "output_type": "execute_result"
    }
   ],
   "source": [
    "roi_match['roi_match_inds'].keys()"
   ]
  },
  {
   "cell_type": "code",
   "execution_count": 175,
   "id": "307930e4-f1fb-4857-add5-577bb07cf7ef",
   "metadata": {},
   "outputs": [
    {
     "data": {
      "text/plain": [
       "1055"
      ]
     },
     "execution_count": 175,
     "metadata": {},
     "output_type": "execute_result"
    }
   ],
   "source": [
    "# There is an entry for each reference day, containing entries for every other target day\n",
    "# Within each [ref][targ] entry is the list of reference and target indices for every ROI\n",
    "# tracked between those 2 days\n",
    "\n",
    "# n tracked cells:\n",
    "len(roi_match['roi_match_inds'][0][1]['ref_inds'])"
   ]
  },
  {
   "cell_type": "code",
   "execution_count": 187,
   "id": "708f5f9a-d4c7-4ba3-b28d-8c028a3b321b",
   "metadata": {},
   "outputs": [
    {
     "name": "stdout",
     "output_type": "stream",
     "text": [
      "/data/InVivoDA/sess/GCAMP18/25_03_2024/Env2_LocationA_001_008.pickle\n",
      "/data/InVivoDA/sess/GCAMP18/26_03_2024/Env2_LocationA_002_008.pickle\n"
     ]
    }
   ],
   "source": [
    "sess = ut.load_sess_pickle(path_dict['preprocessed_root'],mouse,exp_day=1)\n",
    "sess2 = ut.load_sess_pickle(path_dict['preprocessed_root'],mouse,exp_day=2)"
   ]
  },
  {
   "cell_type": "code",
   "execution_count": 189,
   "id": "61539703-869f-4794-aeb7-614806bc45fd",
   "metadata": {},
   "outputs": [
    {
     "data": {
      "text/plain": [
       "1586.0"
      ]
     },
     "execution_count": 189,
     "metadata": {},
     "output_type": "execute_result"
    }
   ],
   "source": [
    "# how many good cells to start with\n",
    "sess2.iscell[:,0].sum()"
   ]
  },
  {
   "cell_type": "code",
   "execution_count": null,
   "id": "4b588262-7468-498a-8d66-2595afdf3865",
   "metadata": {},
   "outputs": [],
   "source": [
    "# indices relative to the list of good cells in plane0\n",
    "np.where(sess.plane_per_cell==0)[0], np.where(sess2.plane_per_cell==1)[0]"
   ]
  },
  {
   "cell_type": "code",
   "execution_count": 191,
   "id": "4497f3f4-0f33-4514-b73f-2bd9d58c2363",
   "metadata": {},
   "outputs": [
    {
     "name": "stdout",
     "output_type": "stream",
     "text": [
      "[ True  True  True ... False False False]\n"
     ]
    },
    {
     "data": {
      "text/plain": [
       "442"
      ]
     },
     "execution_count": 191,
     "metadata": {},
     "output_type": "execute_result"
    }
   ],
   "source": [
    "# See which cells got tracked out of the originals, if desired\n",
    "print(np.isin(roi_match['roi_match_inds'][0][1]['ref_inds'], np.where(sess.plane_per_cell==0)[0]))\n",
    "# ref cells in plane 0\n",
    "np.isin(roi_match['roi_match_inds'][0][1]['ref_inds'], np.where(sess.plane_per_cell==0)[0]).sum()"
   ]
  },
  {
   "cell_type": "code",
   "execution_count": 192,
   "id": "a5317376-8a22-46c6-9f81-c97fbf47509d",
   "metadata": {},
   "outputs": [
    {
     "data": {
      "text/plain": [
       "613"
      ]
     },
     "execution_count": 192,
     "metadata": {},
     "output_type": "execute_result"
    }
   ],
   "source": [
    "# ref cells in plane 1\n",
    "np.isin(roi_match['roi_match_inds'][0][1]['ref_inds'], np.where(sess.plane_per_cell==1)[0]).sum()"
   ]
  },
  {
   "cell_type": "code",
   "execution_count": 157,
   "id": "fa284b3f-7769-466b-baa2-39ac9ba7a675",
   "metadata": {},
   "outputs": [
    {
     "data": {
      "text/plain": [
       "442"
      ]
     },
     "execution_count": 157,
     "metadata": {},
     "output_type": "execute_result"
    }
   ],
   "source": [
    "# targ cells in plane 0\n",
    "np.isin(roi_match['roi_match_inds'][0][1]['targ_inds'], np.where(sess2.plane_per_cell==0)[0]).sum()"
   ]
  },
  {
   "cell_type": "code",
   "execution_count": null,
   "id": "fb843a37-7f6c-4000-8d84-0edd18a98895",
   "metadata": {},
   "outputs": [],
   "source": [
    "# targ cells in plane 1\n",
    "np.isin(np.where(sess2.plane_per_cell==1)[0], roi_match['roi_match_inds'][0][1]['targ_inds'])"
   ]
  },
  {
   "cell_type": "code",
   "execution_count": 178,
   "id": "c5cb39a9-6685-412f-9af9-110b9381b21f",
   "metadata": {},
   "outputs": [
    {
     "data": {
      "text/plain": [
       "(2, (1291,), 1592)"
      ]
     },
     "execution_count": 178,
     "metadata": {},
     "output_type": "execute_result"
    }
   ],
   "source": [
    "sess.n_planes, sess.s2p_stats.shape, sess.s2p_ops['Lx'] # stats for each good cell\n",
    "# for multiplane, FOVs of each plane get stacked next to each other so they have double the number of y pixels (1592)"
   ]
  },
  {
   "cell_type": "code",
   "execution_count": 194,
   "id": "3cdc5123-ddf8-48de-9a7e-fb090591229c",
   "metadata": {},
   "outputs": [
    {
     "data": {
      "text/plain": [
       "<matplotlib.image.AxesImage at 0x7f9d7a50a8b0>"
      ]
     },
     "execution_count": 194,
     "metadata": {},
     "output_type": "execute_result"
    },
    {
     "data": {
      "image/png": "[encoded data removed]",
      "text/plain": [
       "<Figure size 432x288 with 1 Axes>"
      ]
     },
     "metadata": {},
     "output_type": "display_data"
    },
    {
     "data": {
      "image/png": "[encoded data removed]",
      "text/plain": [
       "<Figure size 432x288 with 1 Axes>"
      ]
     },
     "metadata": {},
     "output_type": "display_data"
    }
   ],
   "source": [
    "# This is the mask per roi that the alignment algorithm sees\n",
    "roistack = np.zeros([sess.s2p_stats.shape[0], sess.s2p_ops['Ly'], sess.s2p_ops['Lx']]).astype(np.float32)\n",
    "for i, roi in enumerate(sess.s2p_stats):\n",
    "    roistack[i, roi['ypix'], roi['xpix']] = 1\n",
    "        \n",
    "roistack2 = np.zeros([sess2.s2p_stats.shape[0], sess2.s2p_ops['Ly'], sess2.s2p_ops['Lx']]).astype(np.float32)\n",
    "for i, roi in enumerate(sess2.s2p_stats):\n",
    "    roistack2[i, roi['ypix'], roi['xpix']] = 1\n",
    "        \n",
    "plt.figure()\n",
    "plt.imshow(roistack[roi_match['roi_match_inds'][0][1]['ref_inds'][0],:,:])\n",
    "plt.figure()\n",
    "plt.imshow(roistack2[roi_match['roi_match_inds'][0][1]['targ_inds'][0],:,:])"
   ]
  },
  {
   "cell_type": "markdown",
   "id": "2712790a-b429-424d-9955-d66eb1ce27c0",
   "metadata": {},
   "source": [
    "## Get common ROIs for a subset of experiment days"
   ]
  },
  {
   "cell_type": "code",
   "execution_count": 211,
   "id": "b1268627",
   "metadata": {
    "tags": []
   },
   "outputs": [],
   "source": [
    "# Output is shape days x cells, limited to cells tracked across all days given\n",
    "inds_to_match = []\n",
    "\n",
    "exp_days = [1,2]\n",
    "for dd in exp_days:\n",
    "    sess_ind = ut.get_ind_of_exp_day(sessions_dict.single_plane, mouse, dd)\n",
    "    inds_to_match.append(sess_ind)\n",
    "\n",
    "common_rois = tpu.roi_matching.common_rois(roi_match['roi_match_inds'],inds_to_match)"
   ]
  },
  {
   "cell_type": "code",
   "execution_count": 212,
   "id": "5f874ee7",
   "metadata": {},
   "outputs": [
    {
     "data": {
      "text/plain": [
       "(2, 712)"
      ]
     },
     "execution_count": 212,
     "metadata": {},
     "output_type": "execute_result"
    }
   ],
   "source": [
    "common_rois.shape"
   ]
  }
 ],
 "metadata": {
  "jupytext": {
   "formats": "ipynb,md"
  },
  "kernelspec": {
   "display_name": "Python 3",
   "language": "python",
   "name": "python3"
  },
  "language_info": {
   "codemirror_mode": {
    "name": "ipython",
    "version": 3
   },
   "file_extension": ".py",
   "mimetype": "text/x-python",
   "name": "python",
   "nbconvert_exporter": "python",
   "pygments_lexer": "ipython3",
   "version": "3.8.5"
  }
 },
 "nbformat": 4,
 "nbformat_minor": 5
}
