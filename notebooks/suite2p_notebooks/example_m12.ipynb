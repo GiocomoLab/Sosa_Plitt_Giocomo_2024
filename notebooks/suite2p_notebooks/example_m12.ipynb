{
 "cells": [
  {
   "cell_type": "code",
   "execution_count": 1,
   "id": "9cbd63ed",
   "metadata": {},
   "outputs": [
    {
     "ename": "ModuleNotFoundError",
     "evalue": "No module named 'spatial'",
     "output_type": "error",
     "traceback": [
      "\u001b[0;31m---------------------------------------------------------------------------\u001b[0m",
      "\u001b[0;31mModuleNotFoundError\u001b[0m                       Traceback (most recent call last)",
      "\u001b[0;32m<ipython-input-1-90f582ad8c4f>\u001b[0m in \u001b[0;36m<module>\u001b[0;34m\u001b[0m\n\u001b[1;32m      3\u001b[0m \u001b[0;32mimport\u001b[0m \u001b[0msuite2p\u001b[0m \u001b[0;32mas\u001b[0m \u001b[0ms2p\u001b[0m\u001b[0;34m\u001b[0m\u001b[0;34m\u001b[0m\u001b[0m\n\u001b[1;32m      4\u001b[0m \u001b[0;32mimport\u001b[0m \u001b[0mTwoPUtils\u001b[0m \u001b[0;32mas\u001b[0m \u001b[0mtpu\u001b[0m\u001b[0;34m\u001b[0m\u001b[0;34m\u001b[0m\u001b[0m\n\u001b[0;32m----> 5\u001b[0;31m \u001b[0;32mimport\u001b[0m \u001b[0mreward_relative\u001b[0m \u001b[0;32mas\u001b[0m \u001b[0mrrel\u001b[0m\u001b[0;34m\u001b[0m\u001b[0;34m\u001b[0m\u001b[0m\n\u001b[0m\u001b[1;32m      6\u001b[0m \u001b[0;32mimport\u001b[0m \u001b[0mos\u001b[0m\u001b[0;34m\u001b[0m\u001b[0;34m\u001b[0m\u001b[0m\n\u001b[1;32m      7\u001b[0m \u001b[0;34m\u001b[0m\u001b[0m\n",
      "\u001b[0;32m~/local_repos/2p_repos/Sosa_et_al_2024/reward_relative/__init__.py\u001b[0m in \u001b[0;36m<module>\u001b[0;34m\u001b[0m\n\u001b[0;32m----> 1\u001b[0;31m \u001b[0;32mfrom\u001b[0m \u001b[0;34m.\u001b[0m \u001b[0;32mimport\u001b[0m \u001b[0mpreprocessing\u001b[0m\u001b[0;34m,\u001b[0m \u001b[0mbehavior\u001b[0m\u001b[0;34m,\u001b[0m \u001b[0mutilities\u001b[0m\u001b[0;34m,\u001b[0m \u001b[0msessions_dict\u001b[0m\u001b[0;34m\u001b[0m\u001b[0;34m\u001b[0m\u001b[0m\n\u001b[0m",
      "\u001b[0;32m~/local_repos/2p_repos/Sosa_et_al_2024/reward_relative/preprocessing.py\u001b[0m in \u001b[0;36m<module>\u001b[0;34m\u001b[0m\n\u001b[1;32m     13\u001b[0m \u001b[0;32mimport\u001b[0m \u001b[0mTwoPUtils\u001b[0m\u001b[0;34m.\u001b[0m\u001b[0mutilities\u001b[0m \u001b[0;32mas\u001b[0m \u001b[0mu\u001b[0m\u001b[0;34m\u001b[0m\u001b[0;34m\u001b[0m\u001b[0m\n\u001b[1;32m     14\u001b[0m \u001b[0;32mfrom\u001b[0m \u001b[0mTwoPUtils\u001b[0m\u001b[0;34m.\u001b[0m\u001b[0mutilities\u001b[0m \u001b[0;32mimport\u001b[0m \u001b[0mnansmooth\u001b[0m\u001b[0;34m\u001b[0m\u001b[0;34m\u001b[0m\u001b[0m\n\u001b[0;32m---> 15\u001b[0;31m \u001b[0;32mfrom\u001b[0m \u001b[0mreward_relative\u001b[0m \u001b[0;32mimport\u001b[0m \u001b[0mutilities\u001b[0m \u001b[0;32mas\u001b[0m \u001b[0mut\u001b[0m\u001b[0;34m\u001b[0m\u001b[0;34m\u001b[0m\u001b[0m\n\u001b[0m\u001b[1;32m     16\u001b[0m \u001b[0;34m\u001b[0m\u001b[0m\n\u001b[1;32m     17\u001b[0m \u001b[0;31m# from suite2p.io.binary import BinaryFile\u001b[0m\u001b[0;34m\u001b[0m\u001b[0;34m\u001b[0m\u001b[0;34m\u001b[0m\u001b[0m\n",
      "\u001b[0;32m~/local_repos/2p_repos/Sosa_et_al_2024/reward_relative/utilities.py\u001b[0m in \u001b[0;36m<module>\u001b[0;34m\u001b[0m\n\u001b[1;32m      7\u001b[0m \u001b[0;32mfrom\u001b[0m \u001b[0mdatetime\u001b[0m \u001b[0;32mimport\u001b[0m \u001b[0mdatetime\u001b[0m\u001b[0;34m\u001b[0m\u001b[0;34m\u001b[0m\u001b[0m\n\u001b[1;32m      8\u001b[0m \u001b[0;34m\u001b[0m\u001b[0m\n\u001b[0;32m----> 9\u001b[0;31m \u001b[0;32mfrom\u001b[0m \u001b[0mspatial\u001b[0m \u001b[0;32mimport\u001b[0m \u001b[0mcalc_place_cells\u001b[0m\u001b[0;34m\u001b[0m\u001b[0;34m\u001b[0m\u001b[0m\n\u001b[0m\u001b[1;32m     10\u001b[0m \u001b[0;34m\u001b[0m\u001b[0m\n\u001b[1;32m     11\u001b[0m \u001b[0;32mfrom\u001b[0m \u001b[0;34m.\u001b[0m \u001b[0;32mimport\u001b[0m \u001b[0mbehavior\u001b[0m \u001b[0;32mas\u001b[0m \u001b[0mbehav\u001b[0m\u001b[0;34m\u001b[0m\u001b[0;34m\u001b[0m\u001b[0m\n",
      "\u001b[0;31mModuleNotFoundError\u001b[0m: No module named 'spatial'"
     ]
    }
   ],
   "source": [
    "import numpy as np\n",
    "import scipy as sp\n",
    "import suite2p as s2p\n",
    "import TwoPUtils as tpu\n",
    "import reward_relative as rrel\n",
    "import os\n",
    "\n",
    "%matplotlib inline\n",
    "\n",
    "%load_ext autoreload\n",
    "%autoreload 2"
   ]
  },
  {
   "cell_type": "code",
   "execution_count": null,
   "id": "28c4d2bb",
   "metadata": {},
   "outputs": [],
   "source": [
    "from reward_relative.path_dict_firebird import path_dictionary as path_dict\n",
    "# options: path_dict_josquin, path_dict_msosamac, etc.\n",
    "path_dict"
   ]
  },
  {
   "cell_type": "code",
   "execution_count": 3,
   "id": "9df8c024",
   "metadata": {},
   "outputs": [
    {
     "data": {
      "text/plain": [
       "('/data/InVivoDA/GCAMP12', '/mnt/oak/InVivoDA/2P_Data/GCAMP12')"
      ]
     },
     "execution_count": 3,
     "metadata": {},
     "output_type": "execute_result"
    }
   ],
   "source": [
    "mouse = \"GCAMP12\"\n",
    "basedir = os.path.join(path_dict['preprocessed_root'],mouse)\n",
    "sbxdir = os.path.join(path_dict['sbx_root'],mouse) \n",
    "\n",
    "custom_nplanes = 1 # if needed to override empty optotune params\n",
    "\n",
    "basedir, sbxdir"
   ]
  },
  {
   "cell_type": "code",
   "execution_count": null,
   "id": "984d52b9",
   "metadata": {},
   "outputs": [],
   "source": [
    "file_list = rrel.sessions_dict.single_plane[mouse]"
   ]
  },
  {
   "cell_type": "code",
   "execution_count": null,
   "id": "5d6370cc",
   "metadata": {},
   "outputs": [],
   "source": [
    "for fn,f in enumerate(file_list):\n",
    "\n",
    "    fullpath = os.path.join(basedir,f['date'],f['scene'],\"%s_%03d_%03d\" % (f['scene'], f['session'], f['scan']))\n",
    "    scanpath = os.path.join(sbxdir,f['date'],f['scene'],\"%s_%03d_%03d\" % (f['scene'], f['session'], f['scan']))\n",
    "    h5path = os.path.join(basedir,f['date'],f['scene'],\"%s_%03d_%03d.h5\" % (f['scene'], f['session'], f['scan']))\n",
    "\n",
    "    scanmat, sbxfile = scanpath+'.mat', scanpath+'.sbx'\n",
    "\n",
    "    info = tpu.scanner_tools.sbx_utils.loadmat(scanmat)\n",
    "    if len(info['otwave'])>0:\n",
    "        nplanes = info['otwave'].shape[0]\n",
    "    else:\n",
    "        nplanes = custom_nplanes\n",
    "        print('\"otwave\" was empty; hardcoding %d planes' % nplanes)\n",
    "\n",
    "    print('nplanes=',nplanes)\n",
    "\n",
    "    h5name = tpu.scanner_tools.sbx_utils.sbx2h5(scanpath,output_name=h5path)\n",
    "\n",
    "    ops = tpu.s2p.set_ops(d={'data_path': [os.path.split(fullpath)[0]],\n",
    "                               'save_path0': fullpath,\n",
    "                               'fast_disk':[],\n",
    "                               'move_bin':True,\n",
    "                               'two_step_registration':True,\n",
    "                               'maxregshiftNR':10,\n",
    "                               'nchannels':1,\n",
    "                               'tau': 0.7,\n",
    "                               'functional_chan':1,\n",
    "                               'nimg_init': 2000,\n",
    "                               'fs':info['frame_rate'],\n",
    "                               'roidetect':True,\n",
    "                               'input_format':\"h5\",\n",
    "                               'h5py_key':'data',\n",
    "                               'sparse_mode':True,\n",
    "                               'threshold_scaling':1,\n",
    "                                'nplanes':nplanes})\n",
    "\n",
    "    ops=s2p.run_s2p(ops=ops)\n",
    "\n",
    "    !rm {h5name} "
   ]
  },
  {
   "cell_type": "code",
   "execution_count": null,
   "id": "7ebd403c",
   "metadata": {},
   "outputs": [],
   "source": []
  }
 ],
 "metadata": {
  "kernelspec": {
   "display_name": "Python 3",
   "language": "python",
   "name": "python3"
  },
  "language_info": {
   "codemirror_mode": {
    "name": "ipython",
    "version": 3
   },
   "file_extension": ".py",
   "mimetype": "text/x-python",
   "name": "python",
   "nbconvert_exporter": "python",
   "pygments_lexer": "ipython3",
   "version": "3.8.5"
  }
 },
 "nbformat": 4,
 "nbformat_minor": 5
}
